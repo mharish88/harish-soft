{
  "cells": [
    {
      "metadata": {},
      "cell_type": "markdown",
      "source": "----> In Python, a list is written as a sequence of data values or items separated by commas. The\nentire sequence is enclosed in square brackets ([ and ]). \n\n----> An item can be of any type.\n\n----> Each of the items in a list is ordered by position. Like a character in a string, each item in a list has a unique index that specifies its position. The index of the first item is 0, and the index of the last item is the length of the list minus 1.\n\n----> A string is immutable, its structure and contents cannot be changed. But a list is changeable— that is, it is mutable. At any point in its lifetime, elements can be inserted, removed,\nor replaced.\n"
    },
    {
      "metadata": {},
      "cell_type": "markdown",
      "source": "# Create a List"
    },
    {
      "metadata": {
        "collapsed": true,
        "trusted": false
      },
      "cell_type": "code",
      "source": "my_list=[]",
      "execution_count": 1,
      "outputs": []
    },
    {
      "metadata": {
        "trusted": false
      },
      "cell_type": "code",
      "source": "type(my_list)",
      "execution_count": 2,
      "outputs": [
        {
          "data": {
            "text/plain": "list"
          },
          "execution_count": 2,
          "metadata": {},
          "output_type": "execute_result"
        }
      ]
    },
    {
      "metadata": {
        "collapsed": true,
        "trusted": false
      },
      "cell_type": "code",
      "source": "my_list=[\"hi\",5,6.7]",
      "execution_count": 3,
      "outputs": []
    },
    {
      "metadata": {
        "trusted": false
      },
      "cell_type": "code",
      "source": "type(my_list)",
      "execution_count": 4,
      "outputs": [
        {
          "data": {
            "text/plain": "list"
          },
          "execution_count": 4,
          "metadata": {},
          "output_type": "execute_result"
        }
      ]
    },
    {
      "metadata": {
        "collapsed": true,
        "trusted": false
      },
      "cell_type": "code",
      "source": "my_nested_list=[[3,4,5],[\"wow\",\"esr\",6.9],9]",
      "execution_count": 5,
      "outputs": []
    },
    {
      "metadata": {
        "collapsed": true,
        "trusted": false
      },
      "cell_type": "code",
      "source": "my_new_list= list(range(1,8))",
      "execution_count": 6,
      "outputs": []
    },
    {
      "metadata": {
        "trusted": false
      },
      "cell_type": "code",
      "source": "type(my_new_list)",
      "execution_count": 7,
      "outputs": [
        {
          "data": {
            "text/plain": "list"
          },
          "execution_count": 7,
          "metadata": {},
          "output_type": "execute_result"
        }
      ]
    },
    {
      "metadata": {},
      "cell_type": "markdown",
      "source": "# Indexing and select"
    },
    {
      "metadata": {
        "trusted": false
      },
      "cell_type": "code",
      "source": "my_new_list",
      "execution_count": 8,
      "outputs": [
        {
          "data": {
            "text/plain": "[1, 2, 3, 4, 5, 6, 7]"
          },
          "execution_count": 8,
          "metadata": {},
          "output_type": "execute_result"
        }
      ]
    },
    {
      "metadata": {
        "trusted": false
      },
      "cell_type": "code",
      "source": "my_new_list[0]",
      "execution_count": 9,
      "outputs": [
        {
          "data": {
            "text/plain": "1"
          },
          "execution_count": 9,
          "metadata": {},
          "output_type": "execute_result"
        }
      ]
    },
    {
      "metadata": {
        "trusted": false
      },
      "cell_type": "code",
      "source": "my_new_list[-7]",
      "execution_count": 10,
      "outputs": [
        {
          "data": {
            "text/plain": "1"
          },
          "execution_count": 10,
          "metadata": {},
          "output_type": "execute_result"
        }
      ]
    },
    {
      "metadata": {
        "trusted": false
      },
      "cell_type": "code",
      "source": "my_new_list[0:6]",
      "execution_count": 11,
      "outputs": [
        {
          "data": {
            "text/plain": "[1, 2, 3, 4, 5, 6]"
          },
          "execution_count": 11,
          "metadata": {},
          "output_type": "execute_result"
        }
      ]
    },
    {
      "metadata": {
        "trusted": false
      },
      "cell_type": "code",
      "source": "my_new_list[0:6:2]",
      "execution_count": 13,
      "outputs": [
        {
          "data": {
            "text/plain": "[1, 3, 5]"
          },
          "execution_count": 13,
          "metadata": {},
          "output_type": "execute_result"
        }
      ]
    },
    {
      "metadata": {},
      "cell_type": "markdown",
      "source": "# Add Element"
    },
    {
      "metadata": {
        "collapsed": true,
        "trusted": false
      },
      "cell_type": "code",
      "source": "list1=[1,2,3,4,5]",
      "execution_count": 15,
      "outputs": []
    },
    {
      "metadata": {},
      "cell_type": "markdown",
      "source": "list1.append(6)"
    },
    {
      "metadata": {
        "trusted": false
      },
      "cell_type": "code",
      "source": "list1",
      "execution_count": 16,
      "outputs": [
        {
          "data": {
            "text/plain": "[1, 2, 3, 4, 5]"
          },
          "execution_count": 16,
          "metadata": {},
          "output_type": "execute_result"
        }
      ]
    },
    {
      "metadata": {
        "collapsed": true,
        "trusted": false
      },
      "cell_type": "code",
      "source": "list1.append(8)",
      "execution_count": 17,
      "outputs": []
    },
    {
      "metadata": {
        "trusted": false
      },
      "cell_type": "code",
      "source": "list1",
      "execution_count": 18,
      "outputs": [
        {
          "data": {
            "text/plain": "[1, 2, 3, 4, 5, 8]"
          },
          "execution_count": 18,
          "metadata": {},
          "output_type": "execute_result"
        }
      ]
    },
    {
      "metadata": {
        "collapsed": true,
        "trusted": false
      },
      "cell_type": "code",
      "source": "list1.insert?",
      "execution_count": 19,
      "outputs": []
    },
    {
      "metadata": {
        "collapsed": true,
        "trusted": false
      },
      "cell_type": "code",
      "source": "list1.insert(1,11)",
      "execution_count": 20,
      "outputs": []
    },
    {
      "metadata": {
        "trusted": false
      },
      "cell_type": "code",
      "source": "list1",
      "execution_count": 21,
      "outputs": [
        {
          "data": {
            "text/plain": "[1, 11, 2, 3, 4, 5, 8]"
          },
          "execution_count": 21,
          "metadata": {},
          "output_type": "execute_result"
        }
      ]
    },
    {
      "metadata": {
        "collapsed": true,
        "trusted": false
      },
      "cell_type": "code",
      "source": "list2=[12,13,14]",
      "execution_count": 22,
      "outputs": []
    },
    {
      "metadata": {
        "collapsed": true,
        "trusted": false
      },
      "cell_type": "code",
      "source": "list1.append(list2)",
      "execution_count": 23,
      "outputs": []
    },
    {
      "metadata": {
        "trusted": false
      },
      "cell_type": "code",
      "source": "list1",
      "execution_count": 24,
      "outputs": [
        {
          "data": {
            "text/plain": "[1, 11, 2, 3, 4, 5, 8, [12, 13, 14]]"
          },
          "execution_count": 24,
          "metadata": {},
          "output_type": "execute_result"
        }
      ]
    },
    {
      "metadata": {
        "collapsed": true,
        "trusted": false
      },
      "cell_type": "code",
      "source": "list1.extend(list2)",
      "execution_count": 25,
      "outputs": []
    },
    {
      "metadata": {
        "trusted": false
      },
      "cell_type": "code",
      "source": "list1",
      "execution_count": 26,
      "outputs": [
        {
          "data": {
            "text/plain": "[1, 11, 2, 3, 4, 5, 8, [12, 13, 14], 12, 13, 14]"
          },
          "execution_count": 26,
          "metadata": {},
          "output_type": "execute_result"
        }
      ]
    },
    {
      "metadata": {},
      "cell_type": "markdown",
      "source": "# Delete element"
    },
    {
      "metadata": {
        "trusted": false
      },
      "cell_type": "code",
      "source": "list1.pop()",
      "execution_count": 27,
      "outputs": [
        {
          "data": {
            "text/plain": "14"
          },
          "execution_count": 27,
          "metadata": {},
          "output_type": "execute_result"
        }
      ]
    },
    {
      "metadata": {
        "trusted": false
      },
      "cell_type": "code",
      "source": "list1.pop(0)",
      "execution_count": 28,
      "outputs": [
        {
          "data": {
            "text/plain": "1"
          },
          "execution_count": 28,
          "metadata": {},
          "output_type": "execute_result"
        }
      ]
    },
    {
      "metadata": {
        "collapsed": true,
        "trusted": false
      },
      "cell_type": "code",
      "source": "list1.remove(11)",
      "execution_count": 29,
      "outputs": []
    },
    {
      "metadata": {
        "trusted": false
      },
      "cell_type": "code",
      "source": "list1",
      "execution_count": 30,
      "outputs": [
        {
          "data": {
            "text/plain": "[2, 3, 4, 5, 8, [12, 13, 14], 12, 13]"
          },
          "execution_count": 30,
          "metadata": {},
          "output_type": "execute_result"
        }
      ]
    },
    {
      "metadata": {
        "collapsed": true,
        "trusted": false
      },
      "cell_type": "code",
      "source": "del list1[0]",
      "execution_count": 31,
      "outputs": []
    },
    {
      "metadata": {
        "trusted": false
      },
      "cell_type": "code",
      "source": "list1",
      "execution_count": 32,
      "outputs": [
        {
          "data": {
            "text/plain": "[3, 4, 5, 8, [12, 13, 14], 12, 13]"
          },
          "execution_count": 32,
          "metadata": {},
          "output_type": "execute_result"
        }
      ]
    },
    {
      "metadata": {
        "collapsed": true,
        "trusted": false
      },
      "cell_type": "code",
      "source": "list5=[1,2,31,1,2,3,5]",
      "execution_count": 33,
      "outputs": []
    },
    {
      "metadata": {
        "collapsed": true,
        "trusted": false
      },
      "cell_type": "code",
      "source": "list5.remove(1)",
      "execution_count": 34,
      "outputs": []
    },
    {
      "metadata": {
        "trusted": false
      },
      "cell_type": "code",
      "source": "list5",
      "execution_count": 35,
      "outputs": [
        {
          "data": {
            "text/plain": "[2, 31, 1, 2, 3, 5]"
          },
          "execution_count": 35,
          "metadata": {},
          "output_type": "execute_result"
        }
      ]
    },
    {
      "metadata": {
        "collapsed": true,
        "trusted": false
      },
      "cell_type": "code",
      "source": "list5.clear()",
      "execution_count": 36,
      "outputs": []
    },
    {
      "metadata": {
        "trusted": false
      },
      "cell_type": "code",
      "source": "list5",
      "execution_count": 37,
      "outputs": [
        {
          "data": {
            "text/plain": "[]"
          },
          "execution_count": 37,
          "metadata": {},
          "output_type": "execute_result"
        }
      ]
    },
    {
      "metadata": {
        "trusted": false
      },
      "cell_type": "code",
      "source": "[5,6,7]\nlist5.extend([5,6,7])",
      "execution_count": 39,
      "outputs": []
    },
    {
      "metadata": {
        "trusted": false
      },
      "cell_type": "code",
      "source": "list5",
      "execution_count": 40,
      "outputs": [
        {
          "data": {
            "text/plain": "[5, 6, 7]"
          },
          "execution_count": 40,
          "metadata": {},
          "output_type": "execute_result"
        }
      ]
    },
    {
      "metadata": {
        "collapsed": true,
        "trusted": false
      },
      "cell_type": "code",
      "source": "list5[0]=9",
      "execution_count": 41,
      "outputs": []
    },
    {
      "metadata": {
        "trusted": false
      },
      "cell_type": "code",
      "source": "list5",
      "execution_count": 42,
      "outputs": [
        {
          "data": {
            "text/plain": "[9, 6, 7]"
          },
          "execution_count": 42,
          "metadata": {},
          "output_type": "execute_result"
        }
      ]
    },
    {
      "metadata": {},
      "cell_type": "markdown",
      "source": "# More operation on list"
    },
    {
      "metadata": {
        "trusted": false
      },
      "cell_type": "code",
      "source": "dir(list)",
      "execution_count": 43,
      "outputs": [
        {
          "data": {
            "text/plain": "['__add__',\n '__class__',\n '__contains__',\n '__delattr__',\n '__delitem__',\n '__dir__',\n '__doc__',\n '__eq__',\n '__format__',\n '__ge__',\n '__getattribute__',\n '__getitem__',\n '__gt__',\n '__hash__',\n '__iadd__',\n '__imul__',\n '__init__',\n '__init_subclass__',\n '__iter__',\n '__le__',\n '__len__',\n '__lt__',\n '__mul__',\n '__ne__',\n '__new__',\n '__reduce__',\n '__reduce_ex__',\n '__repr__',\n '__reversed__',\n '__rmul__',\n '__setattr__',\n '__setitem__',\n '__sizeof__',\n '__str__',\n '__subclasshook__',\n 'append',\n 'clear',\n 'copy',\n 'count',\n 'extend',\n 'index',\n 'insert',\n 'pop',\n 'remove',\n 'reverse',\n 'sort']"
          },
          "execution_count": 43,
          "metadata": {},
          "output_type": "execute_result"
        }
      ]
    },
    {
      "metadata": {
        "collapsed": true,
        "trusted": false
      },
      "cell_type": "code",
      "source": "list7=[1,1,1,1,2,2,2,5,7,9,9]",
      "execution_count": 44,
      "outputs": []
    },
    {
      "metadata": {
        "trusted": false
      },
      "cell_type": "code",
      "source": "list7.count(1)",
      "execution_count": 45,
      "outputs": [
        {
          "data": {
            "text/plain": "4"
          },
          "execution_count": 45,
          "metadata": {},
          "output_type": "execute_result"
        }
      ]
    },
    {
      "metadata": {
        "collapsed": true,
        "trusted": false
      },
      "cell_type": "code",
      "source": "list8=list7.copy()",
      "execution_count": 46,
      "outputs": []
    },
    {
      "metadata": {
        "trusted": false
      },
      "cell_type": "code",
      "source": "list8",
      "execution_count": 47,
      "outputs": [
        {
          "data": {
            "text/plain": "[1, 1, 1, 1, 2, 2, 2, 5, 7, 9, 9]"
          },
          "execution_count": 47,
          "metadata": {},
          "output_type": "execute_result"
        }
      ]
    },
    {
      "metadata": {
        "trusted": false
      },
      "cell_type": "code",
      "source": "list7.index(7)",
      "execution_count": 48,
      "outputs": [
        {
          "data": {
            "text/plain": "8"
          },
          "execution_count": 48,
          "metadata": {},
          "output_type": "execute_result"
        }
      ]
    },
    {
      "metadata": {
        "collapsed": true,
        "trusted": false
      },
      "cell_type": "code",
      "source": "list_sort=[\"few\",\"aew\"]",
      "execution_count": 66,
      "outputs": []
    },
    {
      "metadata": {
        "trusted": false
      },
      "cell_type": "code",
      "source": "list_sort.sort(reverse= True)",
      "execution_count": 67,
      "outputs": []
    },
    {
      "metadata": {
        "trusted": false
      },
      "cell_type": "code",
      "source": "list_sort",
      "execution_count": 68,
      "outputs": [
        {
          "data": {
            "text/plain": "['few', 'aew']"
          },
          "execution_count": 68,
          "metadata": {},
          "output_type": "execute_result"
        }
      ]
    },
    {
      "metadata": {
        "collapsed": true,
        "trusted": false
      },
      "cell_type": "code",
      "source": "list.sort?\n",
      "execution_count": 69,
      "outputs": []
    },
    {
      "metadata": {
        "collapsed": true,
        "trusted": false
      },
      "cell_type": "code",
      "source": "list_reverse=[1,2,3,4,5]",
      "execution_count": 70,
      "outputs": []
    },
    {
      "metadata": {
        "collapsed": true,
        "trusted": false
      },
      "cell_type": "code",
      "source": "list_reverse.reverse()",
      "execution_count": 71,
      "outputs": []
    },
    {
      "metadata": {
        "trusted": false
      },
      "cell_type": "code",
      "source": "list_reverse",
      "execution_count": 72,
      "outputs": [
        {
          "data": {
            "text/plain": "[5, 4, 3, 2, 1]"
          },
          "execution_count": 72,
          "metadata": {},
          "output_type": "execute_result"
        }
      ]
    },
    {
      "metadata": {
        "collapsed": true,
        "trusted": false
      },
      "cell_type": "code",
      "source": "",
      "execution_count": null,
      "outputs": []
    }
  ],
  "metadata": {
    "kernelspec": {
      "name": "python3",
      "display_name": "Python 3",
      "language": "python"
    },
    "language_info": {
      "mimetype": "text/x-python",
      "nbconvert_exporter": "python",
      "name": "python",
      "pygments_lexer": "ipython3",
      "version": "3.5.4",
      "file_extension": ".py",
      "codemirror_mode": {
        "version": 3,
        "name": "ipython"
      }
    },
    "toc": {
      "nav_menu": {},
      "number_sections": true,
      "sideBar": true,
      "skip_h1_title": false,
      "base_numbering": 1,
      "title_cell": "Table of Contents",
      "title_sidebar": "Contents",
      "toc_cell": false,
      "toc_position": {},
      "toc_section_display": true,
      "toc_window_display": false
    }
  },
  "nbformat": 4,
  "nbformat_minor": 2
}